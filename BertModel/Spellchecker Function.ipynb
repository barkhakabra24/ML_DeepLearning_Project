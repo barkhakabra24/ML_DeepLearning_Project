{
 "cells": [
  {
   "cell_type": "markdown",
   "metadata": {},
   "source": [
    "## Importing Pandas to read the data from excel sheet"
   ]
  },
  {
   "cell_type": "code",
   "execution_count": 1,
   "metadata": {},
   "outputs": [
    {
     "data": {
      "text/html": [
       "<div>\n",
       "<style scoped>\n",
       "    .dataframe tbody tr th:only-of-type {\n",
       "        vertical-align: middle;\n",
       "    }\n",
       "\n",
       "    .dataframe tbody tr th {\n",
       "        vertical-align: top;\n",
       "    }\n",
       "\n",
       "    .dataframe thead th {\n",
       "        text-align: right;\n",
       "    }\n",
       "</style>\n",
       "<table border=\"1\" class=\"dataframe\">\n",
       "  <thead>\n",
       "    <tr style=\"text-align: right;\">\n",
       "      <th></th>\n",
       "      <th>ITEM_NAME</th>\n",
       "      <th>CATEGORY_ID</th>\n",
       "    </tr>\n",
       "  </thead>\n",
       "  <tbody>\n",
       "    <tr>\n",
       "      <th>0</th>\n",
       "      <td>CALIBRACION TRANSDUCER 75 nm</td>\n",
       "      <td>CAPITAL ASSEMBLY</td>\n",
       "    </tr>\n",
       "    <tr>\n",
       "      <th>1</th>\n",
       "      <td>for pusher whskey</td>\n",
       "      <td>CAPITAL ASSEMBLY</td>\n",
       "    </tr>\n",
       "    <tr>\n",
       "      <th>2</th>\n",
       "      <td>Stat 40B Press Head Cup to Carrier from Stati...</td>\n",
       "      <td>CAPITAL ASSEMBLY</td>\n",
       "    </tr>\n",
       "    <tr>\n",
       "      <th>3</th>\n",
       "      <td>TRANSD. Cable (4145097103) scrw</td>\n",
       "      <td>CAPITAL ASSEMBLY</td>\n",
       "    </tr>\n",
       "    <tr>\n",
       "      <th>4</th>\n",
       "      <td>ZT200 7,5BAR,13BAR60HZ NUMERO DE SERIE: AIF09...</td>\n",
       "      <td>CAPITAL ASSEMBLY</td>\n",
       "    </tr>\n",
       "  </tbody>\n",
       "</table>\n",
       "</div>"
      ],
      "text/plain": [
       "                                           ITEM_NAME       CATEGORY_ID\n",
       "0                       CALIBRACION TRANSDUCER 75 nm  CAPITAL ASSEMBLY\n",
       "1                                  for pusher whskey  CAPITAL ASSEMBLY\n",
       "2   Stat 40B Press Head Cup to Carrier from Stati...  CAPITAL ASSEMBLY\n",
       "3                    TRANSD. Cable (4145097103) scrw  CAPITAL ASSEMBLY\n",
       "4   ZT200 7,5BAR,13BAR60HZ NUMERO DE SERIE: AIF09...  CAPITAL ASSEMBLY"
      ]
     },
     "execution_count": 1,
     "metadata": {},
     "output_type": "execute_result"
    }
   ],
   "source": [
    "import pandas as pd\n",
    "data = pd.read_excel(\"bert_sample.xlsx\")\n",
    "data.head()"
   ]
  },
  {
   "cell_type": "markdown",
   "metadata": {},
   "source": [
    "# First Method"
   ]
  },
  {
   "cell_type": "code",
   "execution_count": 2,
   "metadata": {},
   "outputs": [
    {
     "name": "stdout",
     "output_type": "stream",
     "text": [
      "Original Text :   for pusher whskey\n",
      "Corrected Text :  for pushed whiskey\n"
     ]
    }
   ],
   "source": [
    "from textblob import TextBlob\n",
    "def spell_check(line):\n",
    "    item  = line\n",
    "    citem = TextBlob(item)\n",
    "    print(\"Original Text :  \",str(item))\n",
    "    print(\"Corrected Text : \",str(citem.correct()))\n",
    "    \n",
    "spell_check('for pusher whskey')"
   ]
  },
  {
   "cell_type": "markdown",
   "metadata": {},
   "source": [
    "# Second Method\n",
    "\n"
   ]
  },
  {
   "cell_type": "code",
   "execution_count": 3,
   "metadata": {},
   "outputs": [
    {
     "name": "stdout",
     "output_type": "stream",
     "text": [
      "Original Text :   ['for', 'pusher', 'whskey']\n",
      "Corrected Text :  ['for', 'pusher', 'whiskey']\n",
      "for pusher whiskey\n"
     ]
    }
   ],
   "source": [
    "import string\n",
    "from nltk.corpus import stopwords\n",
    "def text_process(mess):\n",
    "    \"\"\"\n",
    "    Takes in a string of text, then performs the following:\n",
    "         Returns a list of the  text\n",
    "    \"\"\"\n",
    "    # Now just remove any stopwords\n",
    "    return [word for word in mess.split()]\n",
    "\n",
    "# Check to make sure its working\n",
    "from spellchecker import SpellChecker\n",
    "spell = SpellChecker()\n",
    "\n",
    "# Process:::\n",
    "def spell_checker(data):\n",
    "    data['item'] = data['ITEM_NAME'].head(5).apply(text_process)\n",
    "    list = data['item'][1]\n",
    "    print(\"Original Text :  \",str(list))\n",
    "    \n",
    "    for word in list:\n",
    "        if spell.unknown(word):\n",
    "            index = list.index(word)\n",
    "            list.remove(word)\n",
    "            list.insert(index,spell.correction(word))\n",
    "    print(\"Corrected Text : \",list)\n",
    "    print(' '.join(list))\n",
    "spell_checker(data)"
   ]
  },
  {
   "cell_type": "code",
   "execution_count": null,
   "metadata": {},
   "outputs": [],
   "source": []
  }
 ],
 "metadata": {
  "kernelspec": {
   "display_name": "Python 3",
   "language": "python",
   "name": "python3"
  },
  "language_info": {
   "codemirror_mode": {
    "name": "ipython",
    "version": 3
   },
   "file_extension": ".py",
   "mimetype": "text/x-python",
   "name": "python",
   "nbconvert_exporter": "python",
   "pygments_lexer": "ipython3",
   "version": "3.8.5"
  }
 },
 "nbformat": 4,
 "nbformat_minor": 4
}
